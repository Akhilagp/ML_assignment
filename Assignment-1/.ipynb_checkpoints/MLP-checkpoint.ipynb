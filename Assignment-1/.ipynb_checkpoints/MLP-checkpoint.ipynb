{
 "cells": [
  {
   "cell_type": "code",
   "execution_count": 10,
   "metadata": {},
   "outputs": [],
   "source": [
    "import pandas as pd\n",
    "import numpy as np\n",
    "import pylab as pl\n",
    "import mlp"
   ]
  },
  {
   "cell_type": "code",
   "execution_count": 5,
   "metadata": {},
   "outputs": [
    {
     "name": "stdout",
     "output_type": "stream",
     "text": [
      "shape (768, 9)\n"
     ]
    },
    {
     "data": {
      "image/png": "[encoded data removed]",
      "text/plain": [
       "<Figure size 432x288 with 1 Axes>"
      ]
     },
     "metadata": {
      "needs_background": "light"
     },
     "output_type": "display_data"
    }
   ],
   "source": [
    "\n",
    "pima= pd.read_csv('dataset/pima-id.csv',header=None)\n",
    "pima=np.array(pima)\n",
    "print \"shape\",pima.shape\n",
    "# Plot the first and second values for the two classes\n",
    "indices0 = np.where(pima[:,8]==0)\n",
    "indices1 = np.where(pima[:,8]==1)\n",
    "\n",
    "pl.ion()\n",
    "pl.plot(pima[indices0,0],pima[indices0,1],'go')\n",
    "pl.plot(pima[indices1,0],pima[indices1,1],'rx')\n",
    "pl.show()"
   ]
  },
  {
   "cell_type": "code",
   "execution_count": 6,
   "metadata": {},
   "outputs": [],
   "source": [
    "# pre-processing steps\n",
    "pima[np.where(pima[:,0]>8),0] = 8\n",
    "\n",
    "pima[np.where(pima[:,7]<=30),7] = 1\n",
    "pima[np.where((pima[:,7]>30) & (pima[:,7]<=40)),7] = 2\n",
    "pima[np.where((pima[:,7]>40) & (pima[:,7]<=50)),7] = 3\n",
    "pima[np.where((pima[:,7]>50) & (pima[:,7]<=60)),7] = 4\n",
    "pima[np.where(pima[:,7]>60),7] = 5"
   ]
  },
  {
   "cell_type": "code",
   "execution_count": 7,
   "metadata": {},
   "outputs": [],
   "source": [
    "# normalizing inputs\n",
    "pima[:,:8] = pima[:,:8]-pima[:,:8].mean(axis=0)\n",
    "pima[:,:8] = pima[:,:8]/pima[:,:8].var(axis=0)"
   ]
  },
  {
   "cell_type": "code",
   "execution_count": 8,
   "metadata": {},
   "outputs": [
    {
     "name": "stdout",
     "output_type": "stream",
     "text": [
      "(768, 9)\n"
     ]
    }
   ],
   "source": [
    "order = range(np.shape(pima)[0])\n",
    "# shuffling the dataset\n",
    "np.random.shuffle(order)\n",
    "pima = pima[order,:]\n",
    "print pima.shape"
   ]
  },
  {
   "cell_type": "code",
   "execution_count": 9,
   "metadata": {},
   "outputs": [
    {
     "name": "stdout",
     "output_type": "stream",
     "text": [
      "(384, 8) (384, 1)\n",
      "(192, 8) (192, 1)\n",
      "(192, 8) (192, 1)\n"
     ]
    }
   ],
   "source": [
    "# target feature\n",
    "target = pima[:,8:]\n",
    "# train features\n",
    "train = pima[:,0:8]\n",
    "# training data\n",
    "x_train = train[::2,:]\n",
    "y_train = target[::2]\n",
    "print x_train.shape, y_train.shape\n",
    "# validation data\n",
    "x_valid = train[1::4,:]\n",
    "y_valid = target[1::4]\n",
    "print x_valid.shape,y_valid.shape \n",
    "# test data\n",
    "x_test = train[3::4,:]\n",
    "y_test = target[3::4]\n",
    "print x_test.shape, y_test.shape "
   ]
  },
  {
   "cell_type": "code",
   "execution_count": 14,
   "metadata": {
    "scrolled": true
   },
   "outputs": [
    {
     "name": "stdout",
     "output_type": "stream",
     "text": [
      "Initialized\n"
     ]
    }
   ],
   "source": [
    "# initialzation\n",
    "net = mlp.mlp(x_train,y_train,10,outtype='logistic')\n",
    "print \"Initialized\""
   ]
  },
  {
   "cell_type": "code",
   "execution_count": 15,
   "metadata": {},
   "outputs": [
    {
     "name": "stdout",
     "output_type": "stream",
     "text": [
      "In validation 1\n",
      "This is training\n",
      "Iteration:  0  Error:  44.80313300820847\n",
      "In validation 2\n",
      "This is training\n",
      "Iteration:  0  Error:  39.92936666411025\n",
      "In validation 3\n",
      "This is training\n",
      "Iteration:  0  Error:  39.32070094596099\n",
      "In validation 4\n",
      "This is training\n",
      "Iteration:  0  Error:  38.87601570137684\n",
      "In validation 5\n",
      "This is training\n",
      "Iteration:  0  Error:  38.40165387920192\n",
      "In validation 6\n",
      "This is training\n",
      "Iteration:  0  Error:  37.9426822424524\n",
      "In validation 7\n",
      "This is training\n",
      "Iteration:  0  Error:  37.5162338247859\n",
      "In validation 8\n",
      "This is training\n",
      "Iteration:  0  Error:  37.10306517584896\n",
      "In validation 9\n",
      "This is training\n",
      "Iteration:  0  Error:  36.69294029972403\n",
      "In validation 10\n",
      "This is training\n",
      "Iteration:  0  Error:  36.28621289410232\n",
      "In validation 11\n",
      "This is training\n",
      "Iteration:  0  Error:  35.88097840890063\n",
      "In validation 12\n",
      "This is training\n",
      "Iteration:  0  Error:  35.483422594045294\n",
      "In validation 13\n",
      "This is training\n",
      "Iteration:  0  Error:  35.11454980852291\n",
      "In validation 14\n",
      "This is training\n",
      "Iteration:  0  Error:  34.75598661470583\n",
      "In validation 15\n",
      "This is training\n",
      "Iteration:  0  Error:  34.39792158595603\n",
      "In validation 16\n",
      "This is training\n",
      "Iteration:  0  Error:  34.03162408660958\n",
      "In validation 17\n",
      "This is training\n",
      "Iteration:  0  Error:  33.6510828401796\n",
      "In validation 18\n",
      "This is training\n",
      "Iteration:  0  Error:  33.25392831302057\n",
      "In validation 19\n",
      "This is training\n",
      "Iteration:  0  Error:  32.84172580565847\n",
      "In validation 20\n",
      "This is training\n",
      "Iteration:  0  Error:  32.41961488705431\n",
      "In validation 21\n",
      "This is training\n",
      "Iteration:  0  Error:  31.99531344158093\n",
      "In validation 22\n",
      "This is training\n",
      "Iteration:  0  Error:  31.577682562615195\n",
      "In validation 23\n",
      "This is training\n",
      "Iteration:  0  Error:  31.175229467313883\n",
      "In validation 24\n",
      "This is training\n",
      "Iteration:  0  Error:  30.79493873337804\n",
      "In validation 25\n",
      "This is training\n",
      "Iteration:  0  Error:  30.441640387829402\n",
      "In validation 26\n",
      "This is training\n",
      "Iteration:  0  Error:  30.11789335607275\n",
      "In validation 27\n",
      "This is training\n",
      "Iteration:  0  Error:  29.82421097444471\n",
      "In validation 28\n",
      "This is training\n",
      "Iteration:  0  Error:  29.559371064592902\n",
      "In validation 29\n",
      "This is training\n",
      "Iteration:  0  Error:  29.32035219277369\n",
      "In validation 30\n",
      "This is training\n",
      "Iteration:  0  Error:  29.101530751195924\n",
      "In validation 31\n",
      "This is training\n",
      "Iteration:  0  Error:  28.89965730756414\n",
      "In validation 32\n",
      "This is training\n",
      "Iteration:  0  Error:  28.716614659971757\n",
      "In validation 33\n",
      "This is training\n",
      "Iteration:  0  Error:  28.550013630514265\n",
      "In validation 34\n",
      "This is training\n",
      "Iteration:  0  Error:  28.39704709651604\n",
      "In validation 35\n",
      "This is training\n",
      "Iteration:  0  Error:  28.255436812341067\n",
      "Stopped 15.450434863798959 15.447108477476469 15.447660714509617\n",
      "This is training\n",
      "Iteration:  0  Error:  28.123317362056135\n",
      "Iteration:  100  Error:  27.999174494199995\n",
      "Iteration:  200  Error:  27.87045040429596\n",
      "Iteration:  300  Error:  27.74857545252957\n",
      "Iteration:  400  Error:  27.632439984063282\n",
      "Iteration:  500  Error:  27.5210757740789\n",
      "Iteration:  600  Error:  27.41359770448089\n",
      "Iteration:  700  Error:  27.30916057252115\n",
      "Iteration:  800  Error:  27.206929501174454\n",
      "Iteration:  900  Error:  27.106068661675152\n"
     ]
    },
    {
     "ename": "NameError",
     "evalue": "name 'y_traint' is not defined",
     "output_type": "error",
     "traceback": [
      "\u001b[0;31m---------------------------------------------------------------------------\u001b[0m",
      "\u001b[0;31mNameError\u001b[0m                                 Traceback (most recent call last)",
      "\u001b[0;32m<ipython-input-15-b66fd8fd7291>\u001b[0m in \u001b[0;36m<module>\u001b[0;34m()\u001b[0m\n\u001b[1;32m      7\u001b[0m                 \u001b[0mnet\u001b[0m\u001b[0;34m.\u001b[0m\u001b[0mearlystopping\u001b[0m\u001b[0;34m(\u001b[0m\u001b[0mx_train\u001b[0m\u001b[0;34m,\u001b[0m\u001b[0my_train\u001b[0m\u001b[0;34m,\u001b[0m\u001b[0mx_valid\u001b[0m\u001b[0;34m,\u001b[0m\u001b[0my_valid\u001b[0m\u001b[0;34m,\u001b[0m\u001b[0mi\u001b[0m\u001b[0;34m)\u001b[0m\u001b[0;34m\u001b[0m\u001b[0m\n\u001b[1;32m      8\u001b[0m                 \u001b[0me\u001b[0m \u001b[0;34m=\u001b[0m \u001b[0mnet\u001b[0m\u001b[0;34m.\u001b[0m\u001b[0mmlptrain\u001b[0m\u001b[0;34m(\u001b[0m\u001b[0mx_train\u001b[0m\u001b[0;34m,\u001b[0m\u001b[0my_train\u001b[0m\u001b[0;34m,\u001b[0m\u001b[0mi\u001b[0m\u001b[0;34m,\u001b[0m\u001b[0mit\u001b[0m\u001b[0;34m)\u001b[0m\u001b[0;34m\u001b[0m\u001b[0m\n\u001b[0;32m----> 9\u001b[0;31m                 \u001b[0mll\u001b[0m \u001b[0;34m=\u001b[0m \u001b[0mnet\u001b[0m\u001b[0;34m.\u001b[0m\u001b[0mconfmat\u001b[0m\u001b[0;34m(\u001b[0m\u001b[0mx_train\u001b[0m\u001b[0;34m,\u001b[0m\u001b[0my_traint\u001b[0m\u001b[0;34m)\u001b[0m\u001b[0;34m\u001b[0m\u001b[0m\n\u001b[0m\u001b[1;32m     10\u001b[0m                 \u001b[0maa\u001b[0m\u001b[0;34m.\u001b[0m\u001b[0mappend\u001b[0m\u001b[0;34m(\u001b[0m\u001b[0mi\u001b[0m\u001b[0;34m)\u001b[0m\u001b[0;34m\u001b[0m\u001b[0m\n\u001b[1;32m     11\u001b[0m                 \u001b[0mbb\u001b[0m\u001b[0;34m.\u001b[0m\u001b[0mappend\u001b[0m\u001b[0;34m(\u001b[0m\u001b[0mit\u001b[0m\u001b[0;34m)\u001b[0m\u001b[0;34m\u001b[0m\u001b[0m\n",
      "\u001b[0;31mNameError\u001b[0m: name 'y_traint' is not defined"
     ]
    }
   ],
   "source": [
    "e=0\n",
    "aa= []\n",
    "bb = []\n",
    "cc =[]\n",
    "for i in [0.001,0.003,0.01,0.03,0.1,0.3]:\n",
    "\tfor it in [1000,2500,5000]:\n",
    "\t\tnet.earlystopping(x_train,y_train,x_valid,y_valid,i)\n",
    "\t\te = net.mlptrain(x_train,y_train,i,it)\n",
    "\t\tll = net.confmat(x_train,y_train)\n",
    "\t\taa.append(i)\n",
    "\t\tbb.append(it)\n",
    "\t\tcc.append(e)\n",
    "ind = cc.index(min(cc))\n",
    "print ind,aa[ind],bb[ind],cc[ind]\n",
    "e = net.mlptrain(x_train,y_train,aa[ind],bb[ind])\n",
    "ll = net.confmat(x_test,y_test)\n",
    "print ll\n"
   ]
  },
  {
   "cell_type": "code",
   "execution_count": null,
   "metadata": {},
   "outputs": [],
   "source": []
  }
 ],
 "metadata": {
  "kernelspec": {
   "display_name": "Python 2",
   "language": "python",
   "name": "python2"
  },
  "language_info": {
   "codemirror_mode": {
    "name": "ipython",
    "version": 2
   },
   "file_extension": ".py",
   "mimetype": "text/x-python",
   "name": "python",
   "nbconvert_exporter": "python",
   "pygments_lexer": "ipython2",
   "version": "2.7.12"
  }
 },
 "nbformat": 4,
 "nbformat_minor": 2
}
